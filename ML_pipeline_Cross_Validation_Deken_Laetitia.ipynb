{
  "nbformat": 4,
  "nbformat_minor": 0,
  "metadata": {
    "colab": {
      "provenance": [],
      "collapsed_sections": []
    },
    "kernelspec": {
      "name": "python3",
      "display_name": "Python 3"
    },
    "language_info": {
      "name": "python"
    }
  },
  "cells": [
    {
      "cell_type": "code",
      "execution_count": null,
      "metadata": {
        "id": "asDVo0u6LNWE"
      },
      "outputs": [],
      "source": [
        "import pandas as pd\n",
        "import numpy as np\n",
        "from sklearn.model_selection import train_test_split\n",
        "from sklearn.model_selection import cross_val_score\n",
        "from sklearn.linear_model import LogisticRegression"
      ]
    },
    {
      "cell_type": "code",
      "source": [
        "link = \"https://web.stanford.edu/class/archive/cs/cs109/cs109.1166/stuff/titanic.csv\"\n",
        "df_titanic = pd.read_csv(link)"
      ],
      "metadata": {
        "id": "Fk_Ml5QRLeXM"
      },
      "execution_count": null,
      "outputs": []
    },
    {
      "cell_type": "code",
      "source": [
        "df_titanic['Survived'] = df_titanic['Survived'].apply(lambda x: 'did not survive' if x == 0 else 'survived')"
      ],
      "metadata": {
        "id": "YD3-iDmS2S3F"
      },
      "execution_count": null,
      "outputs": []
    },
    {
      "cell_type": "markdown",
      "source": [
        " A partir de ce dataset :\n",
        "\n",
        "- Tu vas effectuer une classification supervisée sur la colonne \"survived\", en effectuant un traintestsplit (sans fixer le random_state), puis un classifieur de ton choix (knn, decision tree, régression logistique, etc...). Tu dois faire apparaitre clairement l'accuracy score du jeu d'entrainement et celui du jeu de test.\n",
        "\n",
        "- Dans un nouveau bloc de code, tu vas effectuer exactement la même étape que précédemment. Comme tu n'as pas fixé le random_state, le score devrait être différent.\n",
        "\n",
        "- Avec ce même classifier, tu vas lancer une crossvalidation avec un découpage en 6 parties. La CrossValidation renforce-t-elle votre confiance dans cette prédiction ?\n",
        "\n",
        "- Tu vas calculer la moyenne et l'écart-type des 6 scores obtenus."
      ],
      "metadata": {
        "id": "coISMTlDL0VU"
      }
    },
    {
      "cell_type": "code",
      "source": [
        "df_titanic.head()"
      ],
      "metadata": {
        "colab": {
          "base_uri": "https://localhost:8080/",
          "height": 206
        },
        "id": "clwejWmALoj_",
        "outputId": "5154e677-4576-4c07-cffb-c3e0869640e3"
      },
      "execution_count": null,
      "outputs": [
        {
          "output_type": "execute_result",
          "data": {
            "text/html": [
              "\n",
              "  <div id=\"df-d6bf2405-9509-40cb-97ba-738926e0d11e\">\n",
              "    <div class=\"colab-df-container\">\n",
              "      <div>\n",
              "<style scoped>\n",
              "    .dataframe tbody tr th:only-of-type {\n",
              "        vertical-align: middle;\n",
              "    }\n",
              "\n",
              "    .dataframe tbody tr th {\n",
              "        vertical-align: top;\n",
              "    }\n",
              "\n",
              "    .dataframe thead th {\n",
              "        text-align: right;\n",
              "    }\n",
              "</style>\n",
              "<table border=\"1\" class=\"dataframe\">\n",
              "  <thead>\n",
              "    <tr style=\"text-align: right;\">\n",
              "      <th></th>\n",
              "      <th>Survived</th>\n",
              "      <th>Pclass</th>\n",
              "      <th>Name</th>\n",
              "      <th>Sex</th>\n",
              "      <th>Age</th>\n",
              "      <th>Siblings/Spouses Aboard</th>\n",
              "      <th>Parents/Children Aboard</th>\n",
              "      <th>Fare</th>\n",
              "    </tr>\n",
              "  </thead>\n",
              "  <tbody>\n",
              "    <tr>\n",
              "      <th>0</th>\n",
              "      <td>did not survive</td>\n",
              "      <td>3</td>\n",
              "      <td>Mr. Owen Harris Braund</td>\n",
              "      <td>male</td>\n",
              "      <td>22.0</td>\n",
              "      <td>1</td>\n",
              "      <td>0</td>\n",
              "      <td>7.2500</td>\n",
              "    </tr>\n",
              "    <tr>\n",
              "      <th>1</th>\n",
              "      <td>survived</td>\n",
              "      <td>1</td>\n",
              "      <td>Mrs. John Bradley (Florence Briggs Thayer) Cum...</td>\n",
              "      <td>female</td>\n",
              "      <td>38.0</td>\n",
              "      <td>1</td>\n",
              "      <td>0</td>\n",
              "      <td>71.2833</td>\n",
              "    </tr>\n",
              "    <tr>\n",
              "      <th>2</th>\n",
              "      <td>survived</td>\n",
              "      <td>3</td>\n",
              "      <td>Miss. Laina Heikkinen</td>\n",
              "      <td>female</td>\n",
              "      <td>26.0</td>\n",
              "      <td>0</td>\n",
              "      <td>0</td>\n",
              "      <td>7.9250</td>\n",
              "    </tr>\n",
              "    <tr>\n",
              "      <th>3</th>\n",
              "      <td>survived</td>\n",
              "      <td>1</td>\n",
              "      <td>Mrs. Jacques Heath (Lily May Peel) Futrelle</td>\n",
              "      <td>female</td>\n",
              "      <td>35.0</td>\n",
              "      <td>1</td>\n",
              "      <td>0</td>\n",
              "      <td>53.1000</td>\n",
              "    </tr>\n",
              "    <tr>\n",
              "      <th>4</th>\n",
              "      <td>did not survive</td>\n",
              "      <td>3</td>\n",
              "      <td>Mr. William Henry Allen</td>\n",
              "      <td>male</td>\n",
              "      <td>35.0</td>\n",
              "      <td>0</td>\n",
              "      <td>0</td>\n",
              "      <td>8.0500</td>\n",
              "    </tr>\n",
              "  </tbody>\n",
              "</table>\n",
              "</div>\n",
              "      <button class=\"colab-df-convert\" onclick=\"convertToInteractive('df-d6bf2405-9509-40cb-97ba-738926e0d11e')\"\n",
              "              title=\"Convert this dataframe to an interactive table.\"\n",
              "              style=\"display:none;\">\n",
              "        \n",
              "  <svg xmlns=\"http://www.w3.org/2000/svg\" height=\"24px\"viewBox=\"0 0 24 24\"\n",
              "       width=\"24px\">\n",
              "    <path d=\"M0 0h24v24H0V0z\" fill=\"none\"/>\n",
              "    <path d=\"M18.56 5.44l.94 2.06.94-2.06 2.06-.94-2.06-.94-.94-2.06-.94 2.06-2.06.94zm-11 1L8.5 8.5l.94-2.06 2.06-.94-2.06-.94L8.5 2.5l-.94 2.06-2.06.94zm10 10l.94 2.06.94-2.06 2.06-.94-2.06-.94-.94-2.06-.94 2.06-2.06.94z\"/><path d=\"M17.41 7.96l-1.37-1.37c-.4-.4-.92-.59-1.43-.59-.52 0-1.04.2-1.43.59L10.3 9.45l-7.72 7.72c-.78.78-.78 2.05 0 2.83L4 21.41c.39.39.9.59 1.41.59.51 0 1.02-.2 1.41-.59l7.78-7.78 2.81-2.81c.8-.78.8-2.07 0-2.86zM5.41 20L4 18.59l7.72-7.72 1.47 1.35L5.41 20z\"/>\n",
              "  </svg>\n",
              "      </button>\n",
              "      \n",
              "  <style>\n",
              "    .colab-df-container {\n",
              "      display:flex;\n",
              "      flex-wrap:wrap;\n",
              "      gap: 12px;\n",
              "    }\n",
              "\n",
              "    .colab-df-convert {\n",
              "      background-color: #E8F0FE;\n",
              "      border: none;\n",
              "      border-radius: 50%;\n",
              "      cursor: pointer;\n",
              "      display: none;\n",
              "      fill: #1967D2;\n",
              "      height: 32px;\n",
              "      padding: 0 0 0 0;\n",
              "      width: 32px;\n",
              "    }\n",
              "\n",
              "    .colab-df-convert:hover {\n",
              "      background-color: #E2EBFA;\n",
              "      box-shadow: 0px 1px 2px rgba(60, 64, 67, 0.3), 0px 1px 3px 1px rgba(60, 64, 67, 0.15);\n",
              "      fill: #174EA6;\n",
              "    }\n",
              "\n",
              "    [theme=dark] .colab-df-convert {\n",
              "      background-color: #3B4455;\n",
              "      fill: #D2E3FC;\n",
              "    }\n",
              "\n",
              "    [theme=dark] .colab-df-convert:hover {\n",
              "      background-color: #434B5C;\n",
              "      box-shadow: 0px 1px 3px 1px rgba(0, 0, 0, 0.15);\n",
              "      filter: drop-shadow(0px 1px 2px rgba(0, 0, 0, 0.3));\n",
              "      fill: #FFFFFF;\n",
              "    }\n",
              "  </style>\n",
              "\n",
              "      <script>\n",
              "        const buttonEl =\n",
              "          document.querySelector('#df-d6bf2405-9509-40cb-97ba-738926e0d11e button.colab-df-convert');\n",
              "        buttonEl.style.display =\n",
              "          google.colab.kernel.accessAllowed ? 'block' : 'none';\n",
              "\n",
              "        async function convertToInteractive(key) {\n",
              "          const element = document.querySelector('#df-d6bf2405-9509-40cb-97ba-738926e0d11e');\n",
              "          const dataTable =\n",
              "            await google.colab.kernel.invokeFunction('convertToInteractive',\n",
              "                                                     [key], {});\n",
              "          if (!dataTable) return;\n",
              "\n",
              "          const docLinkHtml = 'Like what you see? Visit the ' +\n",
              "            '<a target=\"_blank\" href=https://colab.research.google.com/notebooks/data_table.ipynb>data table notebook</a>'\n",
              "            + ' to learn more about interactive tables.';\n",
              "          element.innerHTML = '';\n",
              "          dataTable['output_type'] = 'display_data';\n",
              "          await google.colab.output.renderOutput(dataTable, element);\n",
              "          const docLink = document.createElement('div');\n",
              "          docLink.innerHTML = docLinkHtml;\n",
              "          element.appendChild(docLink);\n",
              "        }\n",
              "      </script>\n",
              "    </div>\n",
              "  </div>\n",
              "  "
            ],
            "text/plain": [
              "          Survived  Pclass  ... Parents/Children Aboard     Fare\n",
              "0  did not survive       3  ...                       0   7.2500\n",
              "1         survived       1  ...                       0  71.2833\n",
              "2         survived       3  ...                       0   7.9250\n",
              "3         survived       1  ...                       0  53.1000\n",
              "4  did not survive       3  ...                       0   8.0500\n",
              "\n",
              "[5 rows x 8 columns]"
            ]
          },
          "metadata": {},
          "execution_count": 4
        }
      ]
    },
    {
      "cell_type": "code",
      "source": [
        "df_titanic.info()"
      ],
      "metadata": {
        "colab": {
          "base_uri": "https://localhost:8080/"
        },
        "id": "VatoBEeoLq5P",
        "outputId": "04987527-a287-4af6-a93b-2ea70ee5309e"
      },
      "execution_count": null,
      "outputs": [
        {
          "output_type": "stream",
          "name": "stdout",
          "text": [
            "<class 'pandas.core.frame.DataFrame'>\n",
            "RangeIndex: 887 entries, 0 to 886\n",
            "Data columns (total 8 columns):\n",
            " #   Column                   Non-Null Count  Dtype  \n",
            "---  ------                   --------------  -----  \n",
            " 0   Survived                 887 non-null    object \n",
            " 1   Pclass                   887 non-null    int64  \n",
            " 2   Name                     887 non-null    object \n",
            " 3   Sex                      887 non-null    object \n",
            " 4   Age                      887 non-null    float64\n",
            " 5   Siblings/Spouses Aboard  887 non-null    int64  \n",
            " 6   Parents/Children Aboard  887 non-null    int64  \n",
            " 7   Fare                     887 non-null    float64\n",
            "dtypes: float64(2), int64(3), object(3)\n",
            "memory usage: 55.6+ KB\n"
          ]
        }
      ]
    },
    {
      "cell_type": "markdown",
      "source": [
        "Tu vas effectuer une classification supervisée sur la colonne \"survived\", en effectuant un traintestsplit (sans fixer le random_state), puis un classifieur de ton choix (knn, decision tree, régression logistique, etc...). Tu dois faire apparaitre clairement l'accuracy score du jeu d'entrainement et celui du jeu de test."
      ],
      "metadata": {
        "id": "hzgiTQt_L8Hx"
      }
    },
    {
      "cell_type": "code",
      "source": [
        "# Column 'sex' to numeric : male = 0 , female = 1\n",
        "df_titanic['Sex'] = df_titanic['Sex'].factorize()[0]"
      ],
      "metadata": {
        "id": "deqOw7xv2oOF"
      },
      "execution_count": null,
      "outputs": []
    },
    {
      "cell_type": "code",
      "source": [
        "df_titanic.columns"
      ],
      "metadata": {
        "colab": {
          "base_uri": "https://localhost:8080/"
        },
        "id": "syq05UG5L-v1",
        "outputId": "dbbaa0fb-445c-43ca-94ef-a64cdd61875f"
      },
      "execution_count": null,
      "outputs": [
        {
          "output_type": "execute_result",
          "data": {
            "text/plain": [
              "Index(['Survived', 'Pclass', 'Name', 'Sex', 'Age', 'Siblings/Spouses Aboard',\n",
              "       'Parents/Children Aboard', 'Fare'],\n",
              "      dtype='object')"
            ]
          },
          "metadata": {},
          "execution_count": 7
        }
      ]
    },
    {
      "cell_type": "code",
      "source": [
        "# Select features (X) with only numeric values, and without \"Survived\" column\n",
        "# Select \"Survived\" column as target (y)\n",
        "\n",
        "X = df_titanic[[\"Fare\", \"Age\", \"Parents/Children Aboard\", \"Siblings/Spouses Aboard\", \"Pclass\"]]\n",
        "y = df_titanic['Survived']"
      ],
      "metadata": {
        "id": "r51XXZNBMFYt"
      },
      "execution_count": null,
      "outputs": []
    },
    {
      "cell_type": "code",
      "source": [
        "# Split your data :\n",
        "\n",
        "X_train, X_test, y_train, y_test = train_test_split(X, y, train_size = 0.75)\n",
        "print(\"The length of the initial dataset is :\", len(X))\n",
        "print(\"The length of the train dataset is   :\", len(X_train))\n",
        "print(\"The length of the test dataset is    :\", len(X_test))"
      ],
      "metadata": {
        "colab": {
          "base_uri": "https://localhost:8080/"
        },
        "id": "WVtSE5cmMIvq",
        "outputId": "48c25301-a1b0-4974-97f2-292553d47661"
      },
      "execution_count": null,
      "outputs": [
        {
          "output_type": "stream",
          "name": "stdout",
          "text": [
            "The length of the initial dataset is : 887\n",
            "The length of the train dataset is   : 665\n",
            "The length of the test dataset is    : 222\n"
          ]
        }
      ]
    },
    {
      "cell_type": "code",
      "source": [
        "# Train a logistic regression :\n",
        "\n",
        "model = LogisticRegression().fit(X_train, y_train)"
      ],
      "metadata": {
        "id": "cpOcIj_-MUum"
      },
      "execution_count": null,
      "outputs": []
    },
    {
      "cell_type": "code",
      "source": [
        "# Print the accuracy score on the train set and on the test set.\n",
        "\n",
        "print(\"\\nScore of Train dataset :\", model.score(X_train, y_train))\n",
        "print(\"Score of Test dataset :\", model.score(X_test, y_test))"
      ],
      "metadata": {
        "colab": {
          "base_uri": "https://localhost:8080/"
        },
        "id": "QLhQ0xTcMomI",
        "outputId": "033df6a7-a69b-49d8-f31d-528143add820"
      },
      "execution_count": null,
      "outputs": [
        {
          "output_type": "stream",
          "name": "stdout",
          "text": [
            "\n",
            "Score of Train dataset : 0.7127819548872181\n",
            "Score of Test dataset : 0.6846846846846847\n"
          ]
        }
      ]
    },
    {
      "cell_type": "markdown",
      "source": [
        "Même étape que précédemment. Vérifier que les scores obtenus sont différents."
      ],
      "metadata": {
        "id": "FMywQraaMxHi"
      }
    },
    {
      "cell_type": "code",
      "source": [
        "# Select features (X) with only numeric values, and without \"Survived\" column\n",
        "# Select \"Survived\" column as target (y)\n",
        "\n",
        "X = df_titanic[[\"Fare\", \"Age\", \"Parents/Children Aboard\", \"Siblings/Spouses Aboard\", \"Pclass\"]]\n",
        "y = df_titanic['Survived']"
      ],
      "metadata": {
        "id": "jH0gj0vnM2eT"
      },
      "execution_count": null,
      "outputs": []
    },
    {
      "cell_type": "code",
      "source": [
        "# Split your data :\n",
        "\n",
        "X_train, X_test, y_train, y_test = train_test_split(X, y, train_size = 0.75)\n",
        "print(\"The length of the initial dataset is :\", len(X))\n",
        "print(\"The length of the train dataset is   :\", len(X_train))\n",
        "print(\"The length of the test dataset is    :\", len(X_test))"
      ],
      "metadata": {
        "colab": {
          "base_uri": "https://localhost:8080/"
        },
        "id": "8D8_bplmM69l",
        "outputId": "93cd65fb-c64f-4fab-8969-8590c1f349b3"
      },
      "execution_count": null,
      "outputs": [
        {
          "output_type": "stream",
          "name": "stdout",
          "text": [
            "The length of the initial dataset is : 887\n",
            "The length of the train dataset is   : 665\n",
            "The length of the test dataset is    : 222\n"
          ]
        }
      ]
    },
    {
      "cell_type": "code",
      "source": [
        "# Train a logistic regression :\n",
        "\n",
        "model = LogisticRegression().fit(X_train, y_train)"
      ],
      "metadata": {
        "id": "pD9EK8e7M9Z2"
      },
      "execution_count": null,
      "outputs": []
    },
    {
      "cell_type": "code",
      "source": [
        "# Print the accuracy score on the train set and on the test set.\n",
        "\n",
        "print(\"\\nScore of Train dataset :\", model.score(X_train, y_train))\n",
        "print(\"Score of Test dataset :\", model.score(X_test, y_test))"
      ],
      "metadata": {
        "colab": {
          "base_uri": "https://localhost:8080/"
        },
        "id": "uoU8JQDnM-WV",
        "outputId": "4d2fa142-b9b8-4258-94e0-5a88ced77c1a"
      },
      "execution_count": null,
      "outputs": [
        {
          "output_type": "stream",
          "name": "stdout",
          "text": [
            "\n",
            "Score of Train dataset : 0.6932330827067669\n",
            "Score of Test dataset : 0.7117117117117117\n"
          ]
        }
      ]
    },
    {
      "cell_type": "markdown",
      "source": [
        "Avec ce même classifier, tu vas lancer une crossvalidation avec un découpage en 6 parties. La CrossValidation renforce-t-elle votre confiance dans cette prédiction ?\n",
        "\n"
      ],
      "metadata": {
        "id": "Nk09TGJ-NWPV"
      }
    },
    {
      "cell_type": "code",
      "source": [
        "cross = cross_val_score(LogisticRegression(), \n",
        "                X, y, \n",
        "                cv = 6)\n"
      ],
      "metadata": {
        "id": "g96Gz9iLNVwI"
      },
      "execution_count": null,
      "outputs": []
    },
    {
      "cell_type": "code",
      "source": [
        "cross"
      ],
      "metadata": {
        "colab": {
          "base_uri": "https://localhost:8080/"
        },
        "id": "er3V_9-BPBUx",
        "outputId": "b6ec1421-8b2b-489c-ed6d-fb401753a6f8"
      },
      "execution_count": null,
      "outputs": [
        {
          "output_type": "execute_result",
          "data": {
            "text/plain": [
              "array([0.62837838, 0.68918919, 0.71621622, 0.69594595, 0.7027027 ,\n",
              "       0.71428571])"
            ]
          },
          "metadata": {},
          "execution_count": 17
        }
      ]
    },
    {
      "cell_type": "markdown",
      "source": [
        "Les 6 résultats obtenus sont assez proches de la prédiction."
      ],
      "metadata": {
        "id": "bYJnOf5nNuL7"
      }
    },
    {
      "cell_type": "markdown",
      "source": [
        "Tu vas calculer la moyenne et l'écart-type des 6 scores obtenus."
      ],
      "metadata": {
        "id": "pZdYFN0NNqG3"
      }
    },
    {
      "cell_type": "code",
      "source": [
        "# Moyenne :\n",
        "\n",
        "mean_cross = cross.mean()"
      ],
      "metadata": {
        "id": "uHgb-jcWN29F"
      },
      "execution_count": null,
      "outputs": []
    },
    {
      "cell_type": "code",
      "source": [
        "mean_cross"
      ],
      "metadata": {
        "colab": {
          "base_uri": "https://localhost:8080/"
        },
        "id": "1pWYHFvHPMMe",
        "outputId": "9cf38a0f-97f9-44e3-9248-f9881c6aa760"
      },
      "execution_count": null,
      "outputs": [
        {
          "output_type": "execute_result",
          "data": {
            "text/plain": [
              "0.6911196911196912"
            ]
          },
          "metadata": {},
          "execution_count": 19
        }
      ]
    },
    {
      "cell_type": "code",
      "source": [
        "# Ecart-type :"
      ],
      "metadata": {
        "id": "-H2JYANTPRQG"
      },
      "execution_count": null,
      "outputs": []
    },
    {
      "cell_type": "code",
      "source": [
        "std_cross = cross.std()"
      ],
      "metadata": {
        "id": "oRuSrVZMPcqM"
      },
      "execution_count": null,
      "outputs": []
    },
    {
      "cell_type": "code",
      "source": [
        "std_cross"
      ],
      "metadata": {
        "colab": {
          "base_uri": "https://localhost:8080/"
        },
        "id": "XyU4mC_oQNo6",
        "outputId": "5ddbf023-4cf3-4a9b-b2be-7eff2f75f676"
      },
      "execution_count": null,
      "outputs": [
        {
          "output_type": "execute_result",
          "data": {
            "text/plain": [
              "0.029620258429089396"
            ]
          },
          "metadata": {},
          "execution_count": 22
        }
      ]
    }
  ]
}